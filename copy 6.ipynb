{
 "cells": [
  {
   "cell_type": "code",
   "execution_count": 1,
   "id": "258287f9",
   "metadata": {},
   "outputs": [],
   "source": [
    "s = \"mansi\""
   ]
  },
  {
   "cell_type": "code",
   "execution_count": 2,
   "id": "de00ff0f",
   "metadata": {},
   "outputs": [
    {
     "data": {
      "text/plain": [
       "'kkkkkkkkkmansikkkkkkkkkk'"
      ]
     },
     "execution_count": 2,
     "metadata": {},
     "output_type": "execute_result"
    }
   ],
   "source": [
    "s.center(24,\"k\")"
   ]
  },
  {
   "cell_type": "code",
   "execution_count": 3,
   "id": "90a0c819",
   "metadata": {},
   "outputs": [
    {
     "data": {
      "text/plain": [
       "'nnnnnnnnnnnnmansinnnnnnnnnnnnn'"
      ]
     },
     "execution_count": 3,
     "metadata": {},
     "output_type": "execute_result"
    }
   ],
   "source": [
    "s.center(30, \"n\")"
   ]
  },
  {
   "cell_type": "code",
   "execution_count": 4,
   "id": "ac1cbf35",
   "metadata": {},
   "outputs": [
    {
     "data": {
      "text/plain": [
       "'@@@@@@@mansi@@@@@@@@'"
      ]
     },
     "execution_count": 4,
     "metadata": {},
     "output_type": "execute_result"
    }
   ],
   "source": [
    "s.center(20, \"@\")"
   ]
  },
  {
   "cell_type": "code",
   "execution_count": 5,
   "id": "6c356cc2",
   "metadata": {},
   "outputs": [
    {
     "data": {
      "text/plain": [
       "'######################mansi#######################'"
      ]
     },
     "execution_count": 5,
     "metadata": {},
     "output_type": "execute_result"
    }
   ],
   "source": [
    "s.center(50, \"#\")"
   ]
  },
  {
   "cell_type": "code",
   "execution_count": 6,
   "id": "deba71b0",
   "metadata": {},
   "outputs": [],
   "source": [
    "s = \"mansi\\t\\bhoj\""
   ]
  },
  {
   "cell_type": "code",
   "execution_count": 7,
   "id": "9e91ac24",
   "metadata": {},
   "outputs": [
    {
     "data": {
      "text/plain": [
       "'mansi   \\x08hoj'"
      ]
     },
     "execution_count": 7,
     "metadata": {},
     "output_type": "execute_result"
    }
   ],
   "source": [
    "s.expandtabs()"
   ]
  },
  {
   "cell_type": "code",
   "execution_count": 19,
   "id": "ada9c853",
   "metadata": {},
   "outputs": [],
   "source": [
    "s = \"MANSI\""
   ]
  },
  {
   "cell_type": "code",
   "execution_count": 20,
   "id": "81743070",
   "metadata": {},
   "outputs": [
    {
     "data": {
      "text/plain": [
       "True"
      ]
     },
     "execution_count": 20,
     "metadata": {},
     "output_type": "execute_result"
    }
   ],
   "source": [
    "s.isupper()"
   ]
  },
  {
   "cell_type": "code",
   "execution_count": 13,
   "id": "fe4c59b0",
   "metadata": {},
   "outputs": [],
   "source": [
    "s = \"mansi\""
   ]
  },
  {
   "cell_type": "code",
   "execution_count": 14,
   "id": "9458afcf",
   "metadata": {},
   "outputs": [
    {
     "data": {
      "text/plain": [
       "True"
      ]
     },
     "execution_count": 14,
     "metadata": {},
     "output_type": "execute_result"
    }
   ],
   "source": [
    "s.islower()"
   ]
  },
  {
   "cell_type": "code",
   "execution_count": 16,
   "id": "baafe01b",
   "metadata": {},
   "outputs": [],
   "source": [
    "s = \"    \""
   ]
  },
  {
   "cell_type": "code",
   "execution_count": 17,
   "id": "3fa2c9e9",
   "metadata": {},
   "outputs": [
    {
     "data": {
      "text/plain": [
       "True"
      ]
     },
     "execution_count": 17,
     "metadata": {},
     "output_type": "execute_result"
    }
   ],
   "source": [
    "s.isspace()"
   ]
  },
  {
   "cell_type": "code",
   "execution_count": 21,
   "id": "caa1b9a6",
   "metadata": {},
   "outputs": [],
   "source": [
    "s = 2404"
   ]
  },
  {
   "cell_type": "code",
   "execution_count": 24,
   "id": "7ac4bbf2",
   "metadata": {},
   "outputs": [
    {
     "ename": "AttributeError",
     "evalue": "'int' object has no attribute 'isdigit'",
     "output_type": "error",
     "traceback": [
      "\u001b[1;31m---------------------------------------------------------------------------\u001b[0m",
      "\u001b[1;31mAttributeError\u001b[0m                            Traceback (most recent call last)",
      "\u001b[1;32m<ipython-input-24-17f7f730e4ef>\u001b[0m in \u001b[0;36m<module>\u001b[1;34m\u001b[0m\n\u001b[1;32m----> 1\u001b[1;33m \u001b[0ms\u001b[0m\u001b[1;33m.\u001b[0m\u001b[0misdigit\u001b[0m\u001b[1;33m(\u001b[0m\u001b[1;33m)\u001b[0m\u001b[1;33m\u001b[0m\u001b[1;33m\u001b[0m\u001b[0m\n\u001b[0m",
      "\u001b[1;31mAttributeError\u001b[0m: 'int' object has no attribute 'isdigit'"
     ]
    }
   ],
   "source": [
    "s.isdigit()"
   ]
  },
  {
   "cell_type": "code",
   "execution_count": null,
   "id": "859beb59",
   "metadata": {},
   "outputs": [],
   "source": []
  },
  {
   "cell_type": "code",
   "execution_count": null,
   "id": "a8213031",
   "metadata": {},
   "outputs": [],
   "source": []
  }
 ],
 "metadata": {
  "kernelspec": {
   "display_name": "Python 3",
   "language": "python",
   "name": "python3"
  },
  "language_info": {
   "codemirror_mode": {
    "name": "ipython",
    "version": 3
   },
   "file_extension": ".py",
   "mimetype": "text/x-python",
   "name": "python",
   "nbconvert_exporter": "python",
   "pygments_lexer": "ipython3",
   "version": "3.8.8"
  }
 },
 "nbformat": 4,
 "nbformat_minor": 5
}
